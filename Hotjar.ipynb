{
 "cells": [
  {
   "cell_type": "code",
   "execution_count": 1,
   "id": "driven-handy",
   "metadata": {},
   "outputs": [],
   "source": [
    "import warnings\n",
    "warnings.filterwarnings('ignore')\n",
    "import pandas as pd\n",
    "import re\n",
    "import string\n",
    "import spacy\n",
    "from spacytextblob.spacytextblob import SpacyTextBlob\n",
    "from sklearn.metrics import confusion_matrix, f1_score\n",
    "import json\n",
    "import numpy as np\n",
    "import matplotlib.pyplot as plt\n",
    "import matplotlib.dates as mdates\n",
    "import seaborn as sns\n",
    "import gensim\n",
    "from gensim.models import CoherenceModel\n",
    "from gensim.models.phrases import Phrases\n",
    "import nltk\n",
    "from nltk.collections import *\n",
    "from nltk import FreqDist, word_tokenize\n",
    "from nltk.stem.wordnet import WordNetLemmatizer\n",
    "from nltk.corpus import stopwords\n",
    "import pyLDAvis\n",
    "import pyLDAvis.gensim\n",
    "from wordcloud import WordCloud\n",
    "plt.rcParams['figure.dpi'] = 300\n",
    "sns.set(rc={\"figure.dpi\":500, 'savefig.dpi':500})\n",
    "%matplotlib inline"
   ]
  },
  {
   "cell_type": "code",
   "execution_count": 6,
   "id": "adult-accent",
   "metadata": {},
   "outputs": [
    {
     "data": {
      "text/html": [
       "<div>\n",
       "<style scoped>\n",
       "    .dataframe tbody tr th:only-of-type {\n",
       "        vertical-align: middle;\n",
       "    }\n",
       "\n",
       "    .dataframe tbody tr th {\n",
       "        vertical-align: top;\n",
       "    }\n",
       "\n",
       "    .dataframe thead th {\n",
       "        text-align: right;\n",
       "    }\n",
       "</style>\n",
       "<table border=\"1\" class=\"dataframe\">\n",
       "  <thead>\n",
       "    <tr style=\"text-align: right;\">\n",
       "      <th></th>\n",
       "      <th>User</th>\n",
       "      <th>Date Submitted</th>\n",
       "      <th>Country</th>\n",
       "      <th>Source URL</th>\n",
       "      <th>Device</th>\n",
       "      <th>Browser</th>\n",
       "      <th>OS</th>\n",
       "      <th>Is there anything preventing you from completing your purchase?</th>\n",
       "      <th>Would you like a response to your question or comment?</th>\n",
       "    </tr>\n",
       "    <tr>\n",
       "      <th>Number</th>\n",
       "      <th></th>\n",
       "      <th></th>\n",
       "      <th></th>\n",
       "      <th></th>\n",
       "      <th></th>\n",
       "      <th></th>\n",
       "      <th></th>\n",
       "      <th></th>\n",
       "      <th></th>\n",
       "    </tr>\n",
       "  </thead>\n",
       "  <tbody>\n",
       "    <tr>\n",
       "      <th>1789</th>\n",
       "      <td>c45329eb</td>\n",
       "      <td>2021-03-11 13:05:54</td>\n",
       "      <td>United States</td>\n",
       "      <td>https://www.gopetplan.com/purchase?c=ALUM229</td>\n",
       "      <td>desktop</td>\n",
       "      <td>Safari 14.0.3</td>\n",
       "      <td>Mac OS X 10.15.6</td>\n",
       "      <td>Need more information. Will premiums increase ...</td>\n",
       "      <td>No thanks</td>\n",
       "    </tr>\n",
       "    <tr>\n",
       "      <th>1788</th>\n",
       "      <td>f42d97df</td>\n",
       "      <td>2021-03-11 06:18:45</td>\n",
       "      <td>Ireland</td>\n",
       "      <td>https://www.gopetplan.com/purchase?trk_msg=7GO...</td>\n",
       "      <td>desktop</td>\n",
       "      <td>Chrome 89.0.4389</td>\n",
       "      <td>Mac OS X 10.15.7</td>\n",
       "      <td>can't find promo code</td>\n",
       "      <td>NaN</td>\n",
       "    </tr>\n",
       "    <tr>\n",
       "      <th>1787</th>\n",
       "      <td>cf424f15</td>\n",
       "      <td>2021-03-11 05:22:22</td>\n",
       "      <td>United States</td>\n",
       "      <td>https://www.gopetplan.com/purchase?trk_msg=4SA...</td>\n",
       "      <td>desktop</td>\n",
       "      <td>Safari 12.1.2</td>\n",
       "      <td>Mac OS X 10.12.6</td>\n",
       "      <td>is there a waiting period ?</td>\n",
       "      <td>Yes (please enter your email address) - trenia...</td>\n",
       "    </tr>\n",
       "    <tr>\n",
       "      <th>1786</th>\n",
       "      <td>93712644</td>\n",
       "      <td>2021-03-11 04:42:09</td>\n",
       "      <td>United States</td>\n",
       "      <td>https://www.gopetplan.com/purchase?c=AARP</td>\n",
       "      <td>desktop</td>\n",
       "      <td>Chrome 88.0.4324</td>\n",
       "      <td>Windows 8.1</td>\n",
       "      <td>Cost</td>\n",
       "      <td>No thanks</td>\n",
       "    </tr>\n",
       "    <tr>\n",
       "      <th>1785</th>\n",
       "      <td>c9987256</td>\n",
       "      <td>2021-03-11 02:48:21</td>\n",
       "      <td>United States</td>\n",
       "      <td>https://www.gopetplan.com/purchase?param=users...</td>\n",
       "      <td>desktop</td>\n",
       "      <td>Firefox 85.0</td>\n",
       "      <td>Mac OS X 10.15</td>\n",
       "      <td>yes</td>\n",
       "      <td>NaN</td>\n",
       "    </tr>\n",
       "  </tbody>\n",
       "</table>\n",
       "</div>"
      ],
      "text/plain": [
       "            User       Date Submitted        Country  \\\n",
       "Number                                                 \n",
       "1789    c45329eb  2021-03-11 13:05:54  United States   \n",
       "1788    f42d97df  2021-03-11 06:18:45        Ireland   \n",
       "1787    cf424f15  2021-03-11 05:22:22  United States   \n",
       "1786    93712644  2021-03-11 04:42:09  United States   \n",
       "1785    c9987256  2021-03-11 02:48:21  United States   \n",
       "\n",
       "                                               Source URL   Device  \\\n",
       "Number                                                               \n",
       "1789         https://www.gopetplan.com/purchase?c=ALUM229  desktop   \n",
       "1788    https://www.gopetplan.com/purchase?trk_msg=7GO...  desktop   \n",
       "1787    https://www.gopetplan.com/purchase?trk_msg=4SA...  desktop   \n",
       "1786            https://www.gopetplan.com/purchase?c=AARP  desktop   \n",
       "1785    https://www.gopetplan.com/purchase?param=users...  desktop   \n",
       "\n",
       "                 Browser                OS  \\\n",
       "Number                                       \n",
       "1789       Safari 14.0.3  Mac OS X 10.15.6   \n",
       "1788    Chrome 89.0.4389  Mac OS X 10.15.7   \n",
       "1787       Safari 12.1.2  Mac OS X 10.12.6   \n",
       "1786    Chrome 88.0.4324       Windows 8.1   \n",
       "1785        Firefox 85.0    Mac OS X 10.15   \n",
       "\n",
       "       Is there anything preventing you from completing your purchase?  \\\n",
       "Number                                                                   \n",
       "1789    Need more information. Will premiums increase ...                \n",
       "1788                                can't find promo code                \n",
       "1787                          is there a waiting period ?                \n",
       "1786                                                 Cost                \n",
       "1785                                                  yes                \n",
       "\n",
       "       Would you like a response to your question or comment?  \n",
       "Number                                                         \n",
       "1789                                            No thanks      \n",
       "1788                                                  NaN      \n",
       "1787    Yes (please enter your email address) - trenia...      \n",
       "1786                                            No thanks      \n",
       "1785                                                  NaN      "
      ]
     },
     "execution_count": 6,
     "metadata": {},
     "output_type": "execute_result"
    }
   ],
   "source": [
    "df1 = pd.read_excel('hotjar_survey_response_export_2e84dc8e706e41a9b1aed68962b30f28_2002851_618030 (1).xlsx', index_col=0)\n",
    "df1.head()"
   ]
  },
  {
   "cell_type": "code",
   "execution_count": 9,
   "id": "weekly-peoples",
   "metadata": {},
   "outputs": [
    {
     "data": {
      "text/html": [
       "<div>\n",
       "<style scoped>\n",
       "    .dataframe tbody tr th:only-of-type {\n",
       "        vertical-align: middle;\n",
       "    }\n",
       "\n",
       "    .dataframe tbody tr th {\n",
       "        vertical-align: top;\n",
       "    }\n",
       "\n",
       "    .dataframe thead th {\n",
       "        text-align: right;\n",
       "    }\n",
       "</style>\n",
       "<table border=\"1\" class=\"dataframe\">\n",
       "  <thead>\n",
       "    <tr style=\"text-align: right;\">\n",
       "      <th></th>\n",
       "      <th>user</th>\n",
       "      <th>reviews</th>\n",
       "    </tr>\n",
       "    <tr>\n",
       "      <th>Number</th>\n",
       "      <th></th>\n",
       "      <th></th>\n",
       "    </tr>\n",
       "  </thead>\n",
       "  <tbody>\n",
       "    <tr>\n",
       "      <th>1789</th>\n",
       "      <td>c45329eb</td>\n",
       "      <td>Need more information. Will premiums increase ...</td>\n",
       "    </tr>\n",
       "    <tr>\n",
       "      <th>1788</th>\n",
       "      <td>f42d97df</td>\n",
       "      <td>can't find promo code</td>\n",
       "    </tr>\n",
       "    <tr>\n",
       "      <th>1787</th>\n",
       "      <td>cf424f15</td>\n",
       "      <td>is there a waiting period ?</td>\n",
       "    </tr>\n",
       "    <tr>\n",
       "      <th>1786</th>\n",
       "      <td>93712644</td>\n",
       "      <td>Cost</td>\n",
       "    </tr>\n",
       "    <tr>\n",
       "      <th>1785</th>\n",
       "      <td>c9987256</td>\n",
       "      <td>yes</td>\n",
       "    </tr>\n",
       "    <tr>\n",
       "      <th>...</th>\n",
       "      <td>...</td>\n",
       "      <td>...</td>\n",
       "    </tr>\n",
       "    <tr>\n",
       "      <th>506</th>\n",
       "      <td>7d8a55a1</td>\n",
       "      <td>is there a discount for multiple pets?</td>\n",
       "    </tr>\n",
       "    <tr>\n",
       "      <th>505</th>\n",
       "      <td>77698e96</td>\n",
       "      <td>comparing it to what i currently have now, if ...</td>\n",
       "    </tr>\n",
       "    <tr>\n",
       "      <th>504</th>\n",
       "      <td>7509f26c</td>\n",
       "      <td>Question about policy limits</td>\n",
       "    </tr>\n",
       "    <tr>\n",
       "      <th>503</th>\n",
       "      <td>7452e49c</td>\n",
       "      <td>They all currently need a dental cleaning (per...</td>\n",
       "    </tr>\n",
       "    <tr>\n",
       "      <th>502</th>\n",
       "      <td>0c7b7d0d</td>\n",
       "      <td>Still comparing with other carriers</td>\n",
       "    </tr>\n",
       "  </tbody>\n",
       "</table>\n",
       "<p>1287 rows × 2 columns</p>\n",
       "</div>"
      ],
      "text/plain": [
       "            user                                            reviews\n",
       "Number                                                             \n",
       "1789    c45329eb  Need more information. Will premiums increase ...\n",
       "1788    f42d97df                              can't find promo code\n",
       "1787    cf424f15                        is there a waiting period ?\n",
       "1786    93712644                                               Cost\n",
       "1785    c9987256                                                yes\n",
       "...          ...                                                ...\n",
       "506     7d8a55a1             is there a discount for multiple pets?\n",
       "505     77698e96  comparing it to what i currently have now, if ...\n",
       "504     7509f26c                       Question about policy limits\n",
       "503     7452e49c  They all currently need a dental cleaning (per...\n",
       "502     0c7b7d0d                Still comparing with other carriers\n",
       "\n",
       "[1287 rows x 2 columns]"
      ]
     },
     "execution_count": 9,
     "metadata": {},
     "output_type": "execute_result"
    }
   ],
   "source": [
    "df =  df1[['User', 'Is there anything preventing you from completing your purchase?']]\n",
    "df.columns = ['user', 'reviews']\n",
    "df"
   ]
  },
  {
   "cell_type": "code",
   "execution_count": 10,
   "id": "pharmaceutical-wrong",
   "metadata": {},
   "outputs": [
    {
     "name": "stdout",
     "output_type": "stream",
     "text": [
      "<class 'pandas.core.frame.DataFrame'>\n",
      "Int64Index: 1287 entries, 1789 to 502\n",
      "Data columns (total 2 columns):\n",
      " #   Column   Non-Null Count  Dtype \n",
      "---  ------   --------------  ----- \n",
      " 0   user     1287 non-null   object\n",
      " 1   reviews  1287 non-null   object\n",
      "dtypes: object(2)\n",
      "memory usage: 30.2+ KB\n"
     ]
    }
   ],
   "source": [
    "df.reviews = df.reviews.str.replace('[\\n\\t]', \"\", regex = True)\n",
    "# df.Comment = df.Comment.astype('str')\n",
    "df.info()"
   ]
  },
  {
   "cell_type": "code",
   "execution_count": 12,
   "id": "imposed-number",
   "metadata": {},
   "outputs": [],
   "source": [
    "from transformers import pipeline\n",
    "nlp=pipeline('sentiment-analysis', model='nlptown/bert-base-multilingual-uncased-sentiment')"
   ]
  },
  {
   "cell_type": "code",
   "execution_count": 13,
   "id": "english-paris",
   "metadata": {},
   "outputs": [
    {
     "data": {
      "text/plain": [
       "{'label': '1 star', 'score': 0.930723249912262}"
      ]
     },
     "execution_count": 13,
     "metadata": {},
     "output_type": "execute_result"
    }
   ],
   "source": [
    "nlp('customer service is absolutely horrible.')[0]"
   ]
  },
  {
   "cell_type": "code",
   "execution_count": 14,
   "id": "promotional-blues",
   "metadata": {},
   "outputs": [],
   "source": [
    "to_sents = spacy.load(\"en_core_web_sm\")\n",
    "spacy_text_blob = SpacyTextBlob()\n",
    "to_sents.add_pipe(spacy_text_blob)\n",
    "star_senti = {'1 star':'Negative', '2 stars': 'Negative', '3 stars': 'Neutral', '4 stars': 'Positive', '5 stars': 'Positive'}\n",
    "class trans_bert_score(object):\n",
    "            \n",
    "    def score_by_sentence(self, text):\n",
    "        self.text = text\n",
    "        self.sent_bert_label = {}\n",
    "        sentences = to_sents(self.text)\n",
    "        sents = [str(s).strip().lower() for s in sentences.sents]\n",
    "        for i in sents:\n",
    "            doc = nlp(i)\n",
    "            self.sent_bert_label[i] = star_senti[doc[0]['label']]\n",
    "        return self.sent_bert_label\n",
    "    def label_bert_by_reviews(self, text):\n",
    "        if text:\n",
    "            doc = nlp(text[:1028])\n",
    "            return doc[0]['label'] "
   ]
  },
  {
   "cell_type": "code",
   "execution_count": 15,
   "id": "reflected-flesh",
   "metadata": {},
   "outputs": [],
   "source": [
    "def text_preprocessing(text: list):\n",
    "    nlp = spacy.load(\"en_core_web_sm\")\n",
    "    review_noun =[]\n",
    "    \n",
    "    text = [re.sub('\\\\S*@\\\\S*\\\\s?', '', sent) for sent in text]\n",
    "    text = [re.sub('\\\\s+', ' ', sent) for sent in text]\n",
    "    text = [re.sub(\"\\\\'\", \"\", sent) for sent in text] \n",
    "    \n",
    "    # only keep the nouns\n",
    "    for review in text:\n",
    "        noun = nlp(review)\n",
    "        review_noun.append(' '.join([i.text for i in noun.noun_chunks]))\n",
    "    print(review_noun[:5])\n",
    "    # sentence to words\n",
    "    review_words = []\n",
    "    for sent in review_noun:\n",
    "        review_words.append(gensim.utils.simple_preprocess(str(sent), deacc=True))\n",
    "    print(review_words[:5])\n",
    "    #remove numbers and lemmatization    \n",
    "    docs = [[token for token in doc if not token.isnumeric()] for doc in review_words]\n",
    "    lemmatizer = WordNetLemmatizer()\n",
    "    docs = [[lemmatizer.lemmatize(token) for token in doc] for doc in docs]\n",
    "    return docs "
   ]
  },
  {
   "cell_type": "code",
   "execution_count": 16,
   "id": "after-arcade",
   "metadata": {},
   "outputs": [],
   "source": [
    "def text_preprocessing2(text: list):\n",
    "    nlp = spacy.load(\"en_core_web_sm\")\n",
    "    review_noun =[]\n",
    "    \n",
    "    text = [re.sub('\\\\S*@\\\\S*\\\\s?', '', sent) for sent in text]\n",
    "    text = [re.sub('\\\\s+', ' ', sent) for sent in text]\n",
    "    text = [re.sub(\"\\\\'\", \"\", sent) for sent in text] \n",
    "    \n",
    "    for review in text:\n",
    "        sent = nlp(review)\n",
    "        review_noun.append([token.lemma_ for token in sent if token.pos_ in ['NOUN', 'ADJ', 'VERB', 'ADV']])\n",
    "    print(review_noun[:5])\n",
    "#   sentence to words\n",
    "    review_words = []\n",
    "    for sent in review_noun:\n",
    "        review_words.append(gensim.utils.simple_preprocess(str(sent), deacc=True))\n",
    "    print(review_words[:5])\n",
    "    #remove numbers and lemmatization    \n",
    "    docs = [[token for token in doc if not token.isnumeric()] for doc in review_words]\n",
    "    lemmatizer = WordNetLemmatizer()\n",
    "    docs = [[lemmatizer.lemmatize(token) for token in doc] for doc in docs]\n",
    "    return docs"
   ]
  },
  {
   "cell_type": "code",
   "execution_count": 17,
   "id": "sapphire-specification",
   "metadata": {},
   "outputs": [],
   "source": [
    "cs = pd.read_csv('cs_after_sentiments.csv')"
   ]
  },
  {
   "cell_type": "code",
   "execution_count": 18,
   "id": "caroline-reconstruction",
   "metadata": {},
   "outputs": [],
   "source": [
    "reviews = cs.reviews.values.tolist()\n",
    "reviews = [re.sub('\\\\S*@\\\\S*\\\\s?', '', sent) for sent in reviews]\n",
    "reviews = [re.sub('\\\\s+', ' ', sent) for sent in reviews]\n",
    "reviews = [re.sub(\"\\\\'\", \"\", sent) for sent in reviews]\n",
    "def reviews_to_words(reviews):\n",
    "    for sent in reviews:\n",
    "        yield(gensim.utils.simple_preprocess(str(sent), deacc=True))\n",
    "list(reviews_to_words(['i like it', \"I don't like it\"]))\n",
    "reviews_words = list(reviews_to_words(reviews))"
   ]
  },
  {
   "cell_type": "code",
   "execution_count": 19,
   "id": "minor-research",
   "metadata": {},
   "outputs": [],
   "source": [
    "bigrams = Phrases(reviews_words, min_count=1, threshold=10)\n",
    "trigrams = Phrases(bigrams[reviews_words], min_count=1, threshold=10)\n",
    "# bigrams.add_vocab(docs)\n",
    "bigrams_mode = gensim.models.phrases.Phraser(bigrams)"
   ]
  },
  {
   "cell_type": "code",
   "execution_count": 20,
   "id": "trying-salem",
   "metadata": {},
   "outputs": [
    {
     "data": {
      "text/plain": [
       "['great_customer_service']"
      ]
     },
     "execution_count": 20,
     "metadata": {},
     "output_type": "execute_result"
    }
   ],
   "source": [
    "trigrams['great_customer', 'service']"
   ]
  },
  {
   "cell_type": "code",
   "execution_count": 26,
   "id": "verbal-shade",
   "metadata": {},
   "outputs": [
    {
     "name": "stdout",
     "output_type": "stream",
     "text": [
      "['more information Will premiums the dog ages', 'promo code', 'a waiting period', 'Cost', '']\n",
      "[['more', 'information', 'will', 'premiums', 'the', 'dog', 'ages'], ['promo', 'code'], ['waiting', 'period'], ['cost'], []]\n"
     ]
    },
    {
     "data": {
      "text/plain": [
       "[['more', 'information', 'will', 'premium', 'the', 'dog', 'age'],\n",
       " ['promo', 'code'],\n",
       " ['waiting', 'period'],\n",
       " ['cost'],\n",
       " []]"
      ]
     },
     "execution_count": 26,
     "metadata": {},
     "output_type": "execute_result"
    }
   ],
   "source": [
    "reviews = df.reviews.values.tolist()\n",
    "docs = text_preprocessing(reviews)\n",
    "docs[:5]"
   ]
  },
  {
   "cell_type": "code",
   "execution_count": 28,
   "id": "dominican-document",
   "metadata": {},
   "outputs": [
    {
     "name": "stdout",
     "output_type": "stream",
     "text": [
      "38 ['the', 'zip', 'code', 'it', 'wa']\n"
     ]
    }
   ],
   "source": [
    "for i,j in enumerate(docs):\n",
    "    if 'wa' in j:\n",
    "        print(i, j)"
   ]
  },
  {
   "cell_type": "code",
   "execution_count": 30,
   "id": "cathedral-audience",
   "metadata": {},
   "outputs": [
    {
     "data": {
      "text/plain": [
       "'Need more information. Will premiums increase as the dog ages?'"
      ]
     },
     "execution_count": 30,
     "metadata": {},
     "output_type": "execute_result"
    }
   ],
   "source": [
    "reviews[0]"
   ]
  },
  {
   "cell_type": "code",
   "execution_count": 31,
   "id": "negative-faculty",
   "metadata": {},
   "outputs": [],
   "source": [
    "stopwords_list = stopwords.words('english')\n",
    "# stopwords_list.extend(['thats', 'fres', 'years', 'best', 'day', 'days','coin', 'coin_base', 'bit','coinbase',\n",
    "#                            'time','would', 'week', 'anything', 'everything', 'nothing', 'lot'])\n",
    "# \"app\", \"petplan\",\"company\",\"will\",\"day\",\"much\",\"I\",\"It\",\"even\",\"t\",\"review\",\"time\",\n",
    "#                  \"yesterday\",\"This\",\"pet\",\"work\",\"new\",\"old\",\"one\",\"now\",\"website\",\"back\",\"make\",\"s\",\"year\"\n",
    "#                  ,\"way\",\"try\",\"anything\",\"years\",\"never\",\"use\",\"better\",\"doesn\",\"dont\",\"week\",\"star\",'Claim','Customer'\n",
    "#                   ,'Service','dog','Pet','pet','claims','w\n",
    "final_docs = [[word for word in doc if word not in stopwords_list] for doc in docs]\n",
    "final_docs = list(bigrams[final_docs])\n",
    "final_docs = list(trigrams[final_docs])\n",
    "final_docs = [[word for word in doc if word not in ['petplan', \n",
    "                                                    'plan', 'pet_plan']] for doc in final_docs]"
   ]
  },
  {
   "cell_type": "code",
   "execution_count": 32,
   "id": "directed-hungary",
   "metadata": {},
   "outputs": [
    {
     "name": "stdout",
     "output_type": "stream",
     "text": [
      "\n",
      "-----------------\n"
     ]
    },
    {
     "data": {
      "text/plain": [
       "[('pet_insurance', 16),\n",
       " ('monthly_payment', 13),\n",
       " ('pre_existing', 11),\n",
       " ('credit_card', 9),\n",
       " ('another_dog', 7),\n",
       " ('gift_card', 4),\n",
       " ('insurance_plan', 4),\n",
       " ('phone_number', 2),\n",
       " ('long_time', 1),\n",
       " ('family_member', 1),\n",
       " ('direct_deposit', 1),\n",
       " ('payment_info', 1),\n",
       " ('card_number', 1),\n",
       " ('new_dog', 1),\n",
       " ('first_time', 1),\n",
       " ('another_way', 1),\n",
       " ('debit_card', 1),\n",
       " ('best_pet', 1),\n",
       " ('live_person', 1),\n",
       " ('monthly_premium', 1)]"
      ]
     },
     "execution_count": 32,
     "metadata": {},
     "output_type": "execute_result"
    }
   ],
   "source": [
    "x = []\n",
    "for idx in range(len(final_docs)):\n",
    "    for token in final_docs[idx]:\n",
    "        if '_' in token:\n",
    "            x.append(token)\n",
    "freq_list = FreqDist(x)\n",
    "print('\\n-----------------')\n",
    "freq_list.most_common(50)"
   ]
  },
  {
   "cell_type": "code",
   "execution_count": 34,
   "id": "popular-patient",
   "metadata": {},
   "outputs": [
    {
     "name": "stdout",
     "output_type": "stream",
     "text": [
      "\n",
      "-----------------\n"
     ]
    },
    {
     "data": {
      "text/plain": [
       "[('discount', 83),\n",
       " ('code', 80),\n",
       " ('vet', 63),\n",
       " ('coverage', 59),\n",
       " ('policy', 53),\n",
       " ('price', 50),\n",
       " ('payment', 49),\n",
       " ('quote', 45),\n",
       " ('wellness', 39),\n",
       " ('cost', 36),\n",
       " ('period', 35),\n",
       " ('waiting', 31),\n",
       " ('error', 28),\n",
       " ('aarp', 27),\n",
       " ('condition', 25),\n",
       " ('information', 23),\n",
       " ('page', 22),\n",
       " ('website', 22),\n",
       " ('care', 21),\n",
       " ('visit', 21)]"
      ]
     },
     "execution_count": 34,
     "metadata": {},
     "output_type": "execute_result"
    }
   ],
   "source": [
    "bag_words = []\n",
    "for doc in final_docs:\n",
    "    bag_words.extend(doc)\n",
    "freq_list = FreqDist(bag_words)\n",
    "print('\\n-----------------')\n",
    "freq_list.most_common(20)"
   ]
  },
  {
   "cell_type": "code",
   "execution_count": 35,
   "id": "casual-indonesian",
   "metadata": {},
   "outputs": [
    {
     "name": "stdout",
     "output_type": "stream",
     "text": [
      "[['need', 'more', 'information', 'Will', 'premium', 'increase', 'dog', 'age'], ['can', 'find', 'promo', 'code'], ['waiting', 'period'], ['cost'], []]\n",
      "[['need', 'more', 'information', 'will', 'premium', 'increase', 'dog', 'age'], ['can', 'find', 'promo', 'code'], ['waiting', 'period'], ['cost'], []]\n"
     ]
    },
    {
     "data": {
      "text/plain": [
       "[['need', 'more', 'information', 'will', 'premium', 'increase', 'dog', 'age'],\n",
       " ['can', 'find', 'promo', 'code'],\n",
       " ['waiting', 'period'],\n",
       " ['cost'],\n",
       " []]"
      ]
     },
     "execution_count": 35,
     "metadata": {},
     "output_type": "execute_result"
    }
   ],
   "source": [
    "reviews = df.reviews.values.tolist()\n",
    "docs = text_preprocessing2(reviews)\n",
    "docs[:5]"
   ]
  },
  {
   "cell_type": "code",
   "execution_count": 36,
   "id": "sticky-integral",
   "metadata": {},
   "outputs": [],
   "source": [
    "stopwords_list = stopwords.words('english')\n",
    "# stopwords_list.extend(['thats', 'fres', 'years', 'best', 'day', 'days','coin', 'coin_base', 'bit','coinbase',\n",
    "#                            'time','would', 'week', 'anything', 'everything', 'nothing', 'lot'])\n",
    "# \"app\", \"petplan\",\"company\",\"will\",\"day\",\"much\",\"I\",\"It\",\"even\",\"t\",\"review\",\"time\",\n",
    "#                  \"yesterday\",\"This\",\"pet\",\"work\",\"new\",\"old\",\"one\",\"now\",\"website\",\"back\",\"make\",\"s\",\"year\"\n",
    "#                  ,\"way\",\"try\",\"anything\",\"years\",\"never\",\"use\",\"better\",\"doesn\",\"dont\",\"week\",\"star\",'Claim','Customer'\n",
    "#                   ,'Service','dog','Pet','pet','claims','w\n",
    "final_docs = [[word for word in doc if word not in stopwords_list] for doc in docs]\n",
    "final_docs = list(bigrams[final_docs])\n",
    "final_docs = list(trigrams[final_docs])\n",
    "final_docs = [[word for word in doc if word not in ['petplan', \n",
    "                                                    'plan', 'pet_plan']] for doc in final_docs]"
   ]
  },
  {
   "cell_type": "code",
   "execution_count": 37,
   "id": "responsible-editor",
   "metadata": {},
   "outputs": [
    {
     "name": "stdout",
     "output_type": "stream",
     "text": [
      "\n",
      "-----------------\n"
     ]
    },
    {
     "data": {
      "text/plain": [
       "[('would_like', 29),\n",
       " ('pet_insurance', 14),\n",
       " ('monthly_payment', 13),\n",
       " ('make_sure', 10),\n",
       " ('pre_existing', 9),\n",
       " ('credit_card', 8),\n",
       " ('insurance_plan', 4),\n",
       " ('gift_card', 3),\n",
       " ('submit_claim', 3),\n",
       " ('long_time', 2),\n",
       " ('go_back', 2),\n",
       " ('phone_number', 2),\n",
       " ('family_member', 1),\n",
       " ('last_month', 1),\n",
       " ('still_want', 1),\n",
       " ('money_back', 1),\n",
       " ('direct_deposit', 1),\n",
       " ('would_rather', 1),\n",
       " ('could_go', 1),\n",
       " ('last_year', 1),\n",
       " ('payment_info', 1),\n",
       " ('call_back', 1),\n",
       " ('card_number', 1),\n",
       " ('new_dog', 1),\n",
       " ('hit_submit', 1),\n",
       " ('first_time', 1),\n",
       " ('good_plan', 1),\n",
       " ('take_care', 1),\n",
       " ('debit_card', 1),\n",
       " ('live_person', 1),\n",
       " ('monthly_premium', 1),\n",
       " ('right_away', 1),\n",
       " ('much_time', 1),\n",
       " ('find_information', 1),\n",
       " ('would_help', 1)]"
      ]
     },
     "execution_count": 37,
     "metadata": {},
     "output_type": "execute_result"
    }
   ],
   "source": [
    "x = []\n",
    "for idx in range(len(final_docs)):\n",
    "    for token in final_docs[idx]:\n",
    "        if '_' in token:\n",
    "            x.append(token)\n",
    "freq_list = FreqDist(x)\n",
    "print('\\n-----------------')\n",
    "freq_list.most_common(50)"
   ]
  },
  {
   "cell_type": "code",
   "execution_count": 38,
   "id": "completed-massage",
   "metadata": {},
   "outputs": [
    {
     "name": "stdout",
     "output_type": "stream",
     "text": [
      "\n",
      "-----------------\n"
     ]
    },
    {
     "data": {
      "text/plain": [
       "[('cover', 110),\n",
       " ('pay', 93),\n",
       " ('discount', 83),\n",
       " ('need', 81),\n",
       " ('want', 79),\n",
       " ('code', 68),\n",
       " ('dog', 63),\n",
       " ('insurance', 62),\n",
       " ('coverage', 61),\n",
       " ('vet', 61),\n",
       " ('pet', 58),\n",
       " ('policy', 54),\n",
       " ('price', 52),\n",
       " ('know', 52),\n",
       " ('see', 51),\n",
       " ('quote', 50),\n",
       " ('payment', 47),\n",
       " ('cost', 46),\n",
       " ('go', 46),\n",
       " ('get', 41)]"
      ]
     },
     "execution_count": 38,
     "metadata": {},
     "output_type": "execute_result"
    }
   ],
   "source": [
    "bag_words = []\n",
    "for doc in final_docs:\n",
    "    bag_words.extend(doc)\n",
    "freq_list = FreqDist(bag_words)\n",
    "print('\\n-----------------')\n",
    "freq_list.most_common(20)"
   ]
  },
  {
   "cell_type": "code",
   "execution_count": 40,
   "id": "appointed-despite",
   "metadata": {
    "scrolled": false
   },
   "outputs": [],
   "source": [
    "words_re = re.compile(\"|\".join(['(?i)would like']))\n",
    "\n",
    "container = []\n",
    "for i in reviews:\n",
    "    if words_re.search(i):\n",
    "        container.append(i)\n",
    "         "
   ]
  },
  {
   "cell_type": "code",
   "execution_count": 41,
   "id": "lonely-tuesday",
   "metadata": {},
   "outputs": [
    {
     "data": {
      "text/plain": [
       "['I would like a different start date since I am covered by my other ins until 3/24. I would prefer a start date of @ 3/20. Also, what is cost per month without the AARP promo code?',\n",
       " 'I would like to talk to the veterinarian that looks after my \"boy kitties\". Make sure they accept Petplan.',\n",
       " 'i would like to know the places where i can bring my dog in case of a illness',\n",
       " 'I would like more details about coverage',\n",
       " 'I would like to save my quote.',\n",
       " 'I would like to start the insurance on March 1. Not today. I have other insurance that is effective until March.',\n",
       " 'Yes, I would like a wellness plan also',\n",
       " 'i would like to see comprehensive contract, evidence of coverage.',\n",
       " 'Comparing to others.  Would like to see sample policy.',\n",
       " 'I would like to see the monthly payment before I put in my card number.',\n",
       " 'yes, i would like to get the full pet plan brochure to see exactly what is covered, procedures, and also what does 80% reimbursement mean?',\n",
       " \"I'm a member of AARP - would like the price as a member before continuing\",\n",
       " \"I would like to know what the plan covers or better yet let me know what it doesn't cover?\",\n",
       " 'yes, I would like a more detailed break down of costs as well as how do I get reimbursed',\n",
       " 'i would like to knowi my cat has been neutered and my cat has not been his normal self, will this cover my cats on going procedure',\n",
       " 'yes I would like to start plan end of March 2021',\n",
       " 'Have a question I would like to chat with someone about.',\n",
       " 'i would like to pay for the year',\n",
       " 'I would like to know what is covered and the limits.  what are the exclusions?',\n",
       " 'I have to cancel another policy,  I would like this policy to begin on January 11',\n",
       " 'I would like to know what this insurance covers.',\n",
       " 'I would like to add in a discount code',\n",
       " 'i would like to know where and which hospital I can take my dog for treatment ?',\n",
       " 'I think I may call this in. I would like to also take advantage of the additional benefits afforded me thru AARP.',\n",
       " \"Yes, I've added 3 pets to this quote and chose the payout of $5,000, deductible of $250 & reimbursement of 70%.  I keep trying to edit the other 2 pets to the same, but it keeps going to payout of $15,000, deductible of $300 & reimbursement of 80%.  Why?I would like all them to be the same in those areas.\",\n",
       " 'I would like in writing that bloat is covered',\n",
       " 'I would like to think it over.. I am interested I just have to see if I can handle it..',\n",
       " 'I would like to pay less']"
      ]
     },
     "execution_count": 41,
     "metadata": {},
     "output_type": "execute_result"
    }
   ],
   "source": [
    "container"
   ]
  },
  {
   "cell_type": "code",
   "execution_count": 42,
   "id": "indirect-religious",
   "metadata": {},
   "outputs": [],
   "source": [
    "to_dict = gensim.corpora.Dictionary(final_docs)\n",
    "corpus = [to_dict.doc2bow(doc) for doc in final_docs]\n",
    "lda_model = gensim.models.ldamodel.LdaModel(corpus=corpus,\n",
    "                                           id2word=to_dict,\n",
    "                                           num_topics=4, \n",
    "                                           random_state=100,\n",
    "                                           update_every=1,\n",
    "                                           chunksize=500,\n",
    "                                           passes=10,\n",
    "                                           alpha='auto',\n",
    "                                           eta = 'auto',\n",
    "                                           per_word_topics=True)"
   ]
  },
  {
   "cell_type": "code",
   "execution_count": 43,
   "id": "strange-forward",
   "metadata": {},
   "outputs": [
    {
     "name": "stdout",
     "output_type": "stream",
     "text": [
      "\n",
      "Perplexity:  -6.42120608387706\n",
      "\n",
      "Coherence Score:  0.45546538400101044\n"
     ]
    }
   ],
   "source": [
    "# Compute Perplexity\n",
    "print('\\nPerplexity: ', lda_model.log_perplexity(corpus))  \n",
    "# a measure of how good the model is. lower the better.\n",
    "\n",
    "# Compute Coherence Score, higher the better\n",
    "coherence_model_lda = CoherenceModel(model=lda_model, texts=final_docs, dictionary=to_dict, coherence='c_v')\n",
    "coherence_lda = coherence_model_lda.get_coherence()\n",
    "print('\\nCoherence Score: ', coherence_lda)"
   ]
  },
  {
   "cell_type": "code",
   "execution_count": 44,
   "id": "committed-argument",
   "metadata": {},
   "outputs": [
    {
     "data": {
      "text/html": [
       "\n",
       "<link rel=\"stylesheet\" type=\"text/css\" href=\"https://cdn.jsdelivr.net/gh/bmabey/pyLDAvis@3.2.2/pyLDAvis/js/ldavis.v1.0.0.css\">\n",
       "\n",
       "\n",
       "<div id=\"ldavis_el2143223129722969843704833910\"></div>\n",
       "<script type=\"text/javascript\">\n",
       "\n",
       "var ldavis_el2143223129722969843704833910_data = {\"mdsDat\": {\"x\": [-0.22013663307710218, -0.03585335073145289, 0.04795176211251513, 0.20803822169603975], \"y\": [-0.13639690712416205, 0.1674190284099273, 0.10975091742251133, -0.14077303870827657], \"topics\": [1, 2, 3, 4], \"cluster\": [1, 1, 1, 1], \"Freq\": [33.61276863242347, 30.99203425841639, 17.984323272773572, 17.410873836386564]}, \"tinfo\": {\"Term\": [\"pay\", \"pet\", \"want\", \"code\", \"cost\", \"vet\", \"discount\", \"quote\", \"try\", \"price\", \"period\", \"insurance\", \"compare\", \"payment\", \"add\", \"expensive\", \"know\", \"cover\", \"confirm\", \"enter\", \"see\", \"dog\", \"go\", \"afford\", \"condition\", \"take\", \"change\", \"policy\", \"think\", \"check\", \"period\", \"price\", \"expensive\", \"pay\", \"compare\", \"confirm\", \"condition\", \"question\", \"waiting\", \"click\", \"visit\", \"care\", \"website\", \"email\", \"well\", \"sign\", \"dental\", \"happen\", \"comparison\", \"exist\", \"pre\", \"routine\", \"pre_existing\", \"current\", \"later\", \"vaccination\", \"surgery\", \"thing\", \"hit\", \"button\", \"go\", \"time\", \"cover\", \"wait\", \"policy\", \"exam\", \"wellness\", \"want\", \"coverage\", \"purchase\", \"information\", \"look\", \"year\", \"payment\", \"take\", \"think\", \"check\", \"puppy\", \"week\", \"use\", \"old\", \"message\", \"today\", \"detail\", \"good\", \"currently\", \"around\", \"tooth\", \"vet\", \"card\", \"company\", \"process\", \"claim\", \"health\", \"effect\", \"full\", \"employer\", \"pick\", \"bill\", \"new\", \"give\", \"receive\", \"clean\", \"insurance\", \"would\", \"know\", \"error\", \"say\", \"see\", \"get\", \"dog\", \"yet\", \"need\", \"would_like\", \"discount\", \"coverage\", \"policy\", \"year\", \"quote\", \"cover\", \"cost\", \"pet_insurance\", \"zip\", \"fee\", \"provide\", \"like\", \"benefit\", \"correct\", \"talk\", \"credit_card\", \"sale\", \"cheap\", \"prior\", \"neuter\", \"form\", \"wrong\", \"veterinarian\", \"multiple\", \"really\", \"quarterly\", \"phone\", \"preventive\", \"send\", \"guy\", \"regard\", \"account\", \"allow\", \"lower\", \"record\", \"illness\", \"pet\", \"add\", \"monthly\", \"quote\", \"want\", \"offer\", \"term\", \"accept\", \"increase\", \"include\", \"work\", \"see\", \"coverage\", \"know\", \"cover\", \"would_like\", \"code\", \"need\", \"discount\", \"wellness\", \"put\", \"try\", \"enter\", \"afford\", \"change\", \"money\", \"decide\", \"cat\", \"promo\", \"option\", \"apply\", \"address\", \"coupon\", \"call\", \"different\", \"freeze\", \"info\", \"budget\", \"name\", \"cancellation\", \"preventative\", \"screen\", \"review\", \"back\", \"payout\", \"employee\", \"number\", \"help\", \"fund\", \"speak\", \"moment\", \"age\", \"code\", \"thank\", \"much\", \"discount\", \"put\", \"unable\", \"find\", \"dog\", \"deductible\", \"need\", \"yet\", \"complete\", \"sure\"], \"Freq\": [78.0, 52.0, 73.0, 49.0, 33.0, 57.0, 68.0, 45.0, 27.0, 41.0, 40.0, 59.0, 36.0, 33.0, 29.0, 35.0, 49.0, 94.0, 30.0, 17.0, 40.0, 57.0, 42.0, 15.0, 27.0, 24.0, 15.0, 53.0, 22.0, 21.0, 39.73163799996395, 40.76089961484654, 35.11446113917067, 77.14386109965265, 36.168401104561774, 30.10544045387084, 26.85995607381174, 19.898989128394696, 19.05710920378407, 18.71722712147347, 18.514152675641327, 18.388645010827457, 16.061636892142833, 14.620092740348625, 13.768924054629677, 13.71907822470503, 12.393606081672873, 11.006953757383858, 11.094582060676005, 10.249237603195738, 9.668861932263841, 9.017493810391517, 8.91299212249858, 8.242978500430441, 8.428042688561812, 7.882359227691273, 7.702823915199411, 7.003381297641384, 6.880220045143147, 6.1958943237125315, 36.5855577407158, 20.269458175909392, 68.43700399476123, 27.603750806678615, 36.998826349003494, 14.2095479393644, 20.050145587971503, 26.78261119792089, 22.24863469550044, 12.70405213628884, 12.612616284806851, 12.697692679133674, 11.918481419116993, 33.13550804618188, 24.264016884093277, 22.29472658307524, 20.75585584141698, 18.128564891791637, 18.255008436062287, 19.47274528302142, 16.9352018012553, 13.377299045453697, 12.325185879005971, 12.533944883827452, 10.829150760703902, 10.750232871543766, 10.039286014996518, 10.433697513355835, 54.035545982077664, 9.393888656022112, 10.548946218389853, 12.400412259301412, 8.526554815910036, 8.310204587648409, 8.022993815102282, 7.794991991823338, 6.990958451259985, 6.592114836871079, 6.583878103684102, 5.590275785002802, 5.935177550302079, 10.459821206357933, 5.577488424231154, 50.08357393453476, 15.695055103643309, 37.694400461004086, 18.381446216853057, 17.942580277725575, 27.93605671374657, 23.673183830035804, 34.04243771352124, 19.759511547181617, 32.81940422855015, 16.99279913746036, 23.517696669767616, 17.41688607329932, 16.10618717757654, 12.093318201595888, 13.262235492210902, 12.305035312467027, 33.25146723040111, 11.139273077367374, 9.541947874426011, 8.183688717828115, 7.573138568910984, 7.085210489895705, 7.371215498042439, 6.825469695008279, 6.311919961242855, 6.29056962743487, 5.826527417268606, 5.226213053997739, 5.384256527519778, 4.498875701224537, 4.514571352927827, 4.481046688381202, 4.320628632990564, 4.1545099088745365, 4.0495910156993915, 3.8916311542149793, 3.710010758322956, 3.6797678662531808, 3.60136025990853, 3.6835621805206817, 3.424359220065289, 3.397322640608405, 3.2428126117964715, 3.256703915727776, 3.6159781524468104, 3.2180059653830924, 43.32153381808882, 22.602656512909487, 10.035587491731572, 31.45239370574985, 43.04700539822673, 8.180904436975144, 8.589103421391082, 9.214217951142412, 6.027516541676861, 9.028307421599761, 9.774814924299832, 12.07819696225783, 13.228426024758924, 11.475448652571648, 13.747982865367643, 8.213647747030148, 10.281788989366103, 9.306484670783881, 7.771750603089511, 6.570202144133883, 6.166887774956098, 27.00003125143165, 17.17212587628781, 15.264310117740052, 14.716508210744763, 11.823915014703442, 11.558387922643353, 10.743745170362926, 10.472974397839572, 10.653760764314844, 9.080695479404453, 8.499632869995516, 7.48022350521878, 7.408213153614484, 7.284475084145943, 6.7696525922903, 6.3140987456215, 6.3252300318040575, 5.514827634587974, 5.571704326121072, 6.215993029587629, 5.064722261707108, 4.972300976987422, 4.532602828514741, 4.77141531941256, 4.327046183271882, 4.069518577500499, 3.902074941330296, 3.44167000219216, 3.435744351863148, 3.256393764674956, 9.846439575756284, 38.94336262983126, 11.57510731442612, 12.29738989620035, 36.90333618628409, 10.791656285358336, 5.578982179014747, 8.473938997617468, 16.413085725844713, 8.3320989790597, 12.663876050023394, 8.04394505773291, 6.726820432692661, 6.8387023447444895], \"Total\": [78.0, 52.0, 73.0, 49.0, 33.0, 57.0, 68.0, 45.0, 27.0, 41.0, 40.0, 59.0, 36.0, 33.0, 29.0, 35.0, 49.0, 94.0, 30.0, 17.0, 40.0, 57.0, 42.0, 15.0, 27.0, 24.0, 15.0, 53.0, 22.0, 21.0, 40.331690174583535, 41.38239890957485, 35.718401084482295, 78.52093485668793, 36.843285566449524, 30.719184833188073, 27.471637081927778, 20.51359066945031, 19.656322542593212, 19.3195424460151, 19.118156211215958, 19.02758949075865, 16.685137172798076, 15.242520553675286, 14.389807280596854, 14.340007184266398, 13.01277254931471, 11.615882457020511, 11.726130421702488, 10.8583953468889, 10.270663491333323, 9.614881178557944, 9.521582192295988, 8.845182325509088, 9.044983800008366, 8.487712681184547, 8.307224374746388, 7.608747885148874, 7.495383010562003, 6.7978317995995505, 42.31106556800538, 23.03175027815444, 94.68403999395193, 36.1327592952452, 53.49774674848493, 17.25484303229646, 27.029384530729494, 73.48288657907236, 53.08709827793597, 20.564577006502347, 20.211303980961258, 30.85854033237993, 24.394796931205, 33.817737813496294, 24.865109564474405, 22.89791970365747, 21.430254011116013, 18.727940570647856, 18.86245288668852, 20.13907406146595, 17.53989333051005, 13.98228606126167, 12.933960372428524, 13.160111865186582, 11.45207524863451, 11.378886135214755, 10.633036353396493, 11.061546105365744, 57.42775625708149, 9.994116276827251, 11.234818708130893, 13.272191047306578, 9.145568653792955, 8.921373833605385, 8.62400716806896, 8.419070797501618, 7.5968942135277695, 7.189876655184917, 7.208835978856681, 6.185381715001653, 6.567992537610583, 11.593203929451297, 6.1848916511948975, 59.157656599515654, 18.00989743211063, 49.67633763232814, 23.003732327901037, 23.144779330192286, 40.47870992811338, 33.76284615426877, 57.0289825543523, 28.211791591640015, 66.13399262244862, 25.623869417064753, 68.4061994457333, 53.08709827793597, 53.49774674848493, 24.394796931205, 45.129965811148935, 94.68403999395193, 33.87662084865084, 11.781318561178706, 10.161174985162699, 8.825629524030889, 8.195952879175032, 7.712035499432003, 8.036877227999707, 7.46763324511596, 6.940617388226273, 6.923310788472841, 6.497912104417735, 5.848779458282581, 6.053344770927133, 5.118888178177599, 5.138365689708339, 5.120031847169872, 4.9581555267947675, 4.7749955565504605, 4.673544896917551, 4.510426722690743, 4.328724698539165, 4.310841560073246, 4.227506456565041, 4.328614714325116, 4.04576780829703, 4.045958409166282, 3.8641732009702263, 3.8829585430035887, 4.338920232265041, 3.8666167912776355, 52.468389594830825, 29.09199207656964, 12.800418255038783, 45.129965811148935, 73.48288657907236, 11.869212900127202, 13.596650983376643, 15.90092995196963, 9.406071877865788, 19.614402536979842, 22.707058640703696, 40.47870992811338, 53.08709827793597, 49.67633763232814, 94.68403999395193, 25.623869417064753, 49.65550573675953, 66.13399262244862, 68.4061994457333, 27.029384530729494, 17.39077926538615, 27.635142826793306, 17.79635159027636, 15.888196069399573, 15.34128750292688, 12.455034967866542, 12.188919501398702, 11.373698869140489, 11.09209573538226, 11.295006395742037, 9.733112531788922, 9.118926823359804, 8.102796327864665, 8.042743108248253, 7.939775198938185, 7.393147137997158, 6.945655547699847, 6.964028920400413, 6.132911540999886, 6.233348433142415, 6.976132250938562, 5.685630730461352, 5.602999009815456, 5.154537548845468, 5.439021441275481, 4.9726770588399605, 4.6875904358347045, 4.52412451690333, 4.057537682187892, 4.057650571733395, 3.875749473866546, 11.992081608527641, 49.65550573675953, 14.698238220099515, 17.84287459231298, 68.4061994457333, 17.39077926538615, 7.046853616776277, 13.919486950986705, 57.0289825543523, 19.360998121379268, 66.13399262244862, 28.211791591640015, 13.880579758804519, 17.296200400313104], \"Category\": [\"Default\", \"Default\", \"Default\", \"Default\", \"Default\", \"Default\", \"Default\", \"Default\", \"Default\", \"Default\", \"Default\", \"Default\", \"Default\", \"Default\", \"Default\", \"Default\", \"Default\", \"Default\", \"Default\", \"Default\", \"Default\", \"Default\", \"Default\", \"Default\", \"Default\", \"Default\", \"Default\", \"Default\", \"Default\", \"Default\", \"Topic1\", \"Topic1\", \"Topic1\", \"Topic1\", \"Topic1\", \"Topic1\", \"Topic1\", \"Topic1\", \"Topic1\", \"Topic1\", \"Topic1\", \"Topic1\", \"Topic1\", \"Topic1\", \"Topic1\", \"Topic1\", \"Topic1\", \"Topic1\", \"Topic1\", \"Topic1\", \"Topic1\", \"Topic1\", \"Topic1\", \"Topic1\", \"Topic1\", \"Topic1\", \"Topic1\", \"Topic1\", \"Topic1\", \"Topic1\", \"Topic1\", \"Topic1\", \"Topic1\", \"Topic1\", \"Topic1\", \"Topic1\", \"Topic1\", \"Topic1\", \"Topic1\", \"Topic1\", \"Topic1\", \"Topic1\", \"Topic1\", \"Topic2\", \"Topic2\", \"Topic2\", \"Topic2\", \"Topic2\", \"Topic2\", \"Topic2\", \"Topic2\", \"Topic2\", \"Topic2\", \"Topic2\", \"Topic2\", \"Topic2\", \"Topic2\", \"Topic2\", \"Topic2\", \"Topic2\", \"Topic2\", \"Topic2\", \"Topic2\", \"Topic2\", \"Topic2\", \"Topic2\", \"Topic2\", \"Topic2\", \"Topic2\", \"Topic2\", \"Topic2\", \"Topic2\", \"Topic2\", \"Topic2\", \"Topic2\", \"Topic2\", \"Topic2\", \"Topic2\", \"Topic2\", \"Topic2\", \"Topic2\", \"Topic2\", \"Topic2\", \"Topic2\", \"Topic2\", \"Topic2\", \"Topic2\", \"Topic2\", \"Topic2\", \"Topic2\", \"Topic3\", \"Topic3\", \"Topic3\", \"Topic3\", \"Topic3\", \"Topic3\", \"Topic3\", \"Topic3\", \"Topic3\", \"Topic3\", \"Topic3\", \"Topic3\", \"Topic3\", \"Topic3\", \"Topic3\", \"Topic3\", \"Topic3\", \"Topic3\", \"Topic3\", \"Topic3\", \"Topic3\", \"Topic3\", \"Topic3\", \"Topic3\", \"Topic3\", \"Topic3\", \"Topic3\", \"Topic3\", \"Topic3\", \"Topic3\", \"Topic3\", \"Topic3\", \"Topic3\", \"Topic3\", \"Topic3\", \"Topic3\", \"Topic3\", \"Topic3\", \"Topic3\", \"Topic3\", \"Topic3\", \"Topic3\", \"Topic3\", \"Topic3\", \"Topic3\", \"Topic3\", \"Topic3\", \"Topic3\", \"Topic3\", \"Topic3\", \"Topic3\", \"Topic4\", \"Topic4\", \"Topic4\", \"Topic4\", \"Topic4\", \"Topic4\", \"Topic4\", \"Topic4\", \"Topic4\", \"Topic4\", \"Topic4\", \"Topic4\", \"Topic4\", \"Topic4\", \"Topic4\", \"Topic4\", \"Topic4\", \"Topic4\", \"Topic4\", \"Topic4\", \"Topic4\", \"Topic4\", \"Topic4\", \"Topic4\", \"Topic4\", \"Topic4\", \"Topic4\", \"Topic4\", \"Topic4\", \"Topic4\", \"Topic4\", \"Topic4\", \"Topic4\", \"Topic4\", \"Topic4\", \"Topic4\", \"Topic4\", \"Topic4\", \"Topic4\", \"Topic4\", \"Topic4\", \"Topic4\", \"Topic4\", \"Topic4\"], \"logprob\": [30.0, 29.0, 28.0, 27.0, 26.0, 25.0, 24.0, 23.0, 22.0, 21.0, 20.0, 19.0, 18.0, 17.0, 16.0, 15.0, 14.0, 13.0, 12.0, 11.0, 10.0, 9.0, 8.0, 7.0, 6.0, 5.0, 4.0, 3.0, 2.0, 1.0, -3.7432, -3.7176, -3.8667, -3.0797, -3.8371, -4.0206, -4.1347, -4.4347, -4.4779, -4.4959, -4.5068, -4.5136, -4.6489, -4.7429, -4.8029, -4.8065, -4.9081, -5.0268, -5.0189, -5.0981, -5.1564, -5.2262, -5.2378, -5.316, -5.2938, -5.3607, -5.3837, -5.4789, -5.4967, -5.6014, -3.8257, -4.4162, -3.1994, -4.1074, -3.8144, -4.7714, -4.4271, -4.1376, -4.323, -4.8834, -4.8906, -4.8839, -4.9472, -3.8435, -4.1552, -4.2398, -4.3113, -4.4467, -4.4397, -4.3751, -4.5148, -4.7506, -4.8325, -4.8157, -4.9619, -4.9692, -5.0376, -4.9991, -3.3545, -5.1041, -4.9881, -4.8264, -5.201, -5.2267, -5.2618, -5.2907, -5.3995, -5.4583, -5.4595, -5.6231, -5.5633, -4.9966, -5.6254, -3.4305, -4.5908, -3.7146, -4.4328, -4.457, -4.0142, -4.1798, -3.8165, -4.3605, -3.8531, -4.5114, -4.1864, -4.4867, -4.5649, -4.8515, -4.7592, -4.8341, -3.2958, -4.3894, -4.5442, -4.6978, -4.7753, -4.8419, -4.8023, -4.8793, -4.9575, -4.9609, -5.0375, -5.1462, -5.1164, -5.2961, -5.2926, -5.3001, -5.3365, -5.3757, -5.4013, -5.4411, -5.4889, -5.4971, -5.5186, -5.496, -5.569, -5.5769, -5.6235, -5.6192, -5.5146, -5.6312, -3.0313, -3.6819, -4.4938, -3.3514, -3.0376, -4.6981, -4.6494, -4.5792, -5.0036, -4.5996, -4.5201, -4.3085, -4.2176, -4.3597, -4.179, -4.6941, -4.4695, -4.5692, -4.7494, -4.9174, -4.9807, -3.4717, -3.9242, -4.042, -4.0785, -4.2974, -4.3201, -4.3932, -4.4187, -4.4016, -4.5614, -4.6275, -4.7553, -4.7649, -4.7818, -4.8551, -4.9247, -4.923, -5.0601, -5.0498, -4.9404, -5.1452, -5.1636, -5.2562, -5.2049, -5.3026, -5.364, -5.406, -5.5316, -5.5333, -5.5869, -4.4804, -3.1054, -4.3187, -4.2581, -3.1592, -4.3887, -5.0485, -4.6305, -3.9694, -4.6474, -4.2288, -4.6826, -4.8614, -4.8449], \"loglift\": [30.0, 29.0, 28.0, 27.0, 26.0, 25.0, 24.0, 23.0, 22.0, 21.0, 20.0, 19.0, 18.0, 17.0, 16.0, 15.0, 14.0, 13.0, 12.0, 11.0, 10.0, 9.0, 8.0, 7.0, 6.0, 5.0, 4.0, 3.0, 2.0, 1.0, 1.0753, 1.0751, 1.0732, 1.0726, 1.0718, 1.0701, 1.0677, 1.0598, 1.0593, 1.0586, 1.0582, 1.0561, 1.0522, 1.0486, 1.0462, 1.046, 1.0415, 1.0364, 1.0349, 1.0325, 1.0299, 1.0261, 1.0242, 1.0198, 1.0196, 1.0163, 1.0147, 1.0074, 1.0046, 0.9975, 0.9449, 0.9625, 0.7656, 0.821, 0.7215, 0.8961, 0.7916, 0.081, 0.2206, 0.6086, 0.6187, 0.2023, 0.374, 1.1511, 1.147, 1.1447, 1.1395, 1.1389, 1.1387, 1.1378, 1.1364, 1.1272, 1.1232, 1.1227, 1.1155, 1.1146, 1.114, 1.113, 1.1106, 1.1095, 1.1084, 1.1035, 1.1014, 1.1005, 1.0992, 1.0944, 1.0883, 1.0846, 1.0808, 1.0703, 1.0701, 1.0686, 1.0681, 1.0049, 1.0339, 0.8954, 0.9471, 0.9168, 0.8006, 0.8164, 0.6555, 0.8153, 0.4708, 0.7607, 0.1037, 0.0569, -0.029, 0.4697, -0.0532, -0.8691, 1.697, 1.6596, 1.6528, 1.6402, 1.6366, 1.6309, 1.6292, 1.6258, 1.6207, 1.6198, 1.6066, 1.6031, 1.5985, 1.5866, 1.5862, 1.5824, 1.578, 1.5765, 1.5724, 1.5681, 1.5614, 1.5574, 1.5554, 1.5543, 1.5489, 1.5409, 1.5404, 1.5398, 1.5334, 1.5321, 1.5241, 1.4633, 1.4723, 1.3546, 1.1809, 1.3435, 1.2563, 1.17, 1.2706, 0.9398, 0.8728, 0.5063, 0.3261, 0.2504, -0.214, 0.5779, 0.1409, -0.2453, -0.4593, 0.3013, 0.6789, 1.7248, 1.7124, 1.708, 1.7065, 1.6961, 1.695, 1.6911, 1.6906, 1.6896, 1.6787, 1.6777, 1.6681, 1.6659, 1.6619, 1.66, 1.6527, 1.6519, 1.6418, 1.6359, 1.6327, 1.6324, 1.6287, 1.6195, 1.6171, 1.609, 1.6067, 1.6002, 1.5835, 1.5817, 1.574, 1.5509, 1.5051, 1.5092, 1.3759, 1.1309, 1.2709, 1.5145, 1.2518, 0.5026, 0.9049, 0.0951, 0.4933, 1.0237, 0.8202]}, \"token.table\": {\"Topic\": [2, 3, 3, 2, 3, 4, 4, 1, 4, 3, 4, 2, 4, 3, 2, 4, 1, 4, 4, 2, 1, 4, 4, 3, 2, 2, 2, 1, 3, 4, 2, 1, 1, 1, 4, 1, 1, 3, 3, 4, 1, 2, 3, 1, 2, 3, 3, 1, 2, 4, 1, 4, 1, 2, 4, 2, 3, 4, 1, 2, 4, 2, 1, 4, 2, 4, 1, 2, 1, 2, 1, 1, 3, 1, 4, 3, 4, 2, 4, 1, 2, 2, 1, 2, 2, 3, 1, 2, 4, 1, 3, 1, 2, 3, 2, 3, 4, 1, 2, 1, 2, 4, 2, 3, 1, 3, 1, 2, 3, 4, 3, 2, 4, 4, 3, 4, 3, 4, 3, 4, 1, 2, 3, 4, 3, 2, 4, 1, 3, 2, 4, 1, 2, 2, 4, 1, 1, 3, 3, 3, 2, 1, 2, 1, 1, 4, 3, 1, 3, 2, 4, 3, 2, 1, 2, 3, 4, 3, 1, 2, 3, 3, 2, 4, 3, 3, 4, 1, 3, 2, 3, 4, 2, 3, 3, 1, 4, 1, 4, 1, 2, 3, 1, 3, 2, 4, 1, 2, 1, 4, 2, 2, 4, 1, 4, 2, 1, 1, 2, 3, 1, 1, 2, 1, 1, 2, 3, 1, 2, 1, 1, 3, 1, 3, 4, 2, 3, 2, 3, 3, 1, 2, 2, 4, 3], \"Freq\": [0.3773364210850314, 0.5660046316275471, 0.7414806818585626, 0.20624232208671375, 0.7905955679990694, 0.8772962164260967, 0.9440971104888223, 0.16677671694443674, 0.8338835847221837, 0.7763627156377857, 0.9246785106619765, 0.9404651378630636, 0.970019124435308, 0.870985060666682, 0.971030554798418, 0.8615702301901148, 0.8826343717938785, 0.8703498179397443, 0.9625645131753405, 0.9005298468327562, 0.9459947624338999, 0.9671435938791715, 0.9777536596676278, 0.8548792163669966, 0.9799230559333157, 0.984083148975916, 0.9701059191296946, 0.9834601442084873, 0.20138753702385692, 0.7854113943930421, 0.9790990211563495, 0.9771115536118895, 0.9380758702496964, 0.5043017022080699, 0.5043017022080699, 0.9828318537944707, 0.9765884141427122, 0.9373786540170803, 0.9741231319213542, 0.8638992906594154, 0.7181780583543287, 0.12673730441546976, 0.14786018848471474, 0.41441330782141517, 0.3202284651347299, 0.2448805909853817, 0.8666373911727128, 0.9044471561573557, 0.9667027044024812, 0.9845007179367274, 0.5165022969016023, 0.41320183752128187, 0.9221708866825583, 0.987833548314271, 0.8816370520082402, 0.3508453940499826, 0.11694846468332754, 0.5408866491603899, 0.10520966237266487, 0.5961880867784343, 0.2805590996604396, 0.9276430137512647, 0.9840892093390152, 0.8043956912281632, 0.9214291792473717, 0.9552519747524277, 0.17388482629614121, 0.7824817183326355, 0.8113664073208744, 0.17386423014018737, 0.9209463903766552, 0.979887087252783, 0.9064509198145219, 0.3592086416407443, 0.5747338266251909, 0.973072043123464, 0.9468227629372377, 0.950223628286155, 0.7393646676824822, 0.29618356089732856, 0.7108405461535885, 0.9135211353609094, 0.8744757311897745, 0.1181723961067263, 0.9605246002301275, 0.9240831684008284, 0.9469792795080947, 0.8967228757823468, 0.884148962977243, 0.9339082459343383, 0.7758720767900866, 0.05098294470681219, 0.5098294470681218, 0.4588465023613097, 0.3189429167620492, 0.6378858335240984, 0.8638493456513239, 0.6432044173026047, 0.3463408400860179, 0.11832787845854786, 0.8451991318467704, 0.01690398263693541, 0.7649517217080538, 0.2214333931260156, 0.8844681402295713, 0.9076721704037223, 0.4212772172622524, 0.35646533768344435, 0.1944356387364242, 0.06481187957880807, 0.7726067550748063, 0.9297478211389822, 0.7740438385474704, 0.9634657815862812, 0.7812244725724942, 0.15624489451449883, 0.2802239052979774, 0.6725373727151458, 0.8376971146104415, 0.9783281496706185, 0.16632898701274154, 0.4989869610382246, 0.13608735301042488, 0.19657062101505818, 0.7814196873947069, 0.9700290582629623, 0.8533168703096674, 0.2527547551167314, 0.6740126803112837, 0.969219121214898, 0.9738816973265949, 0.9806301993288306, 0.012735457134140656, 0.9758192633106895, 0.919283009634077, 0.9917759416194126, 0.17153185126319712, 0.8195410671463862, 0.9336815690772277, 0.9240596893006151, 0.9735911109061949, 0.6916179138151805, 0.2990780167849429, 0.9736469322004643, 0.9452210586683791, 0.8600754378176769, 0.9278930678055436, 0.9907593827411881, 0.8259896287444071, 0.9041461170373408, 0.9015428859040023, 0.9760915073495694, 0.9611307731407077, 0.6321549913664409, 0.34039114919731434, 0.34501041663740384, 0.6325190971685737, 0.8868340505072562, 0.9749633948670346, 0.2880569432381106, 0.686905018490879, 0.8558813680463861, 0.8625743203391831, 0.08625743203391831, 0.9218883468415102, 0.7415156138836299, 0.8923792403391275, 0.9360490091204471, 0.9233735242310803, 0.7777131828826322, 0.21603143968962008, 0.8794099084226462, 0.6917216494726618, 0.29645213548828364, 0.9461842438556805, 0.9762896085129269, 0.7393440975175999, 0.5781616637500901, 0.4047131646250631, 0.9630172051593625, 0.9652078925197894, 0.864476409573896, 0.3677376146606274, 0.6619277063891292, 0.20410609455884082, 0.8164243782353633, 0.9199936843304983, 0.9607859702855868, 0.8683664835915641, 0.08683664835915642, 0.9277900700531402, 0.9040327549825238, 0.9770168429823525, 0.14190730422146472, 0.8514438253287883, 0.9434396011460402, 0.9425389737489933, 0.052239547485891304, 0.9403118547460435, 0.8067516193034442, 0.9938196858572251, 0.7749200599713012, 0.22140573142037176, 0.9666101051622943, 0.3674324901614507, 0.04082583224016119, 0.585170262108977, 0.9589372765891874, 0.9542767373962713, 0.9729108755248955, 0.7399354571785443, 0.25897741001249047, 0.3523133544764598, 0.4403916930955747, 0.22019584654778734, 0.8884003954110756, 0.11105004942638445, 0.6634439054968995, 0.31220889670442326, 0.7812451405377534, 0.49190817344537946, 0.49190817344537946, 0.708923427816849, 0.28356937112673963, 0.9841381547509962], \"Term\": [\"accept\", \"accept\", \"account\", \"add\", \"add\", \"address\", \"afford\", \"age\", \"age\", \"allow\", \"apply\", \"around\", \"back\", \"benefit\", \"bill\", \"budget\", \"button\", \"call\", \"cancellation\", \"card\", \"care\", \"cat\", \"change\", \"cheap\", \"check\", \"claim\", \"clean\", \"click\", \"code\", \"code\", \"company\", \"compare\", \"comparison\", \"complete\", \"complete\", \"condition\", \"confirm\", \"correct\", \"cost\", \"coupon\", \"cover\", \"cover\", \"cover\", \"coverage\", \"coverage\", \"coverage\", \"credit_card\", \"current\", \"currently\", \"decide\", \"deductible\", \"deductible\", \"dental\", \"detail\", \"different\", \"discount\", \"discount\", \"discount\", \"dog\", \"dog\", \"dog\", \"effect\", \"email\", \"employee\", \"employer\", \"enter\", \"error\", \"error\", \"exam\", \"exam\", \"exist\", \"expensive\", \"fee\", \"find\", \"find\", \"form\", \"freeze\", \"full\", \"fund\", \"get\", \"get\", \"give\", \"go\", \"go\", \"good\", \"guy\", \"happen\", \"health\", \"help\", \"hit\", \"illness\", \"include\", \"include\", \"include\", \"increase\", \"increase\", \"info\", \"information\", \"information\", \"insurance\", \"insurance\", \"insurance\", \"know\", \"know\", \"later\", \"like\", \"look\", \"look\", \"look\", \"look\", \"lower\", \"message\", \"moment\", \"money\", \"monthly\", \"monthly\", \"much\", \"much\", \"multiple\", \"name\", \"need\", \"need\", \"need\", \"need\", \"neuter\", \"new\", \"number\", \"offer\", \"offer\", \"old\", \"option\", \"pay\", \"pay\", \"payment\", \"payout\", \"period\", \"pet\", \"pet\", \"pet_insurance\", \"phone\", \"pick\", \"policy\", \"policy\", \"pre\", \"pre_existing\", \"preventative\", \"preventive\", \"price\", \"prior\", \"process\", \"promo\", \"provide\", \"puppy\", \"purchase\", \"purchase\", \"put\", \"put\", \"quarterly\", \"question\", \"quote\", \"quote\", \"really\", \"receive\", \"receive\", \"record\", \"regard\", \"review\", \"routine\", \"sale\", \"say\", \"say\", \"screen\", \"see\", \"see\", \"send\", \"sign\", \"speak\", \"sure\", \"sure\", \"surgery\", \"take\", \"talk\", \"term\", \"term\", \"thank\", \"thank\", \"thing\", \"think\", \"time\", \"time\", \"today\", \"tooth\", \"try\", \"unable\", \"unable\", \"use\", \"vaccination\", \"vet\", \"vet\", \"veterinarian\", \"visit\", \"wait\", \"wait\", \"waiting\", \"want\", \"want\", \"want\", \"website\", \"week\", \"well\", \"wellness\", \"wellness\", \"work\", \"work\", \"work\", \"would\", \"would\", \"would_like\", \"would_like\", \"wrong\", \"year\", \"year\", \"yet\", \"yet\", \"zip\"]}, \"R\": 30, \"lambda.step\": 0.01, \"plot.opts\": {\"xlab\": \"PC1\", \"ylab\": \"PC2\"}, \"topic.order\": [3, 4, 2, 1]};\n",
       "\n",
       "function LDAvis_load_lib(url, callback){\n",
       "  var s = document.createElement('script');\n",
       "  s.src = url;\n",
       "  s.async = true;\n",
       "  s.onreadystatechange = s.onload = callback;\n",
       "  s.onerror = function(){console.warn(\"failed to load library \" + url);};\n",
       "  document.getElementsByTagName(\"head\")[0].appendChild(s);\n",
       "}\n",
       "\n",
       "if(typeof(LDAvis) !== \"undefined\"){\n",
       "   // already loaded: just create the visualization\n",
       "   !function(LDAvis){\n",
       "       new LDAvis(\"#\" + \"ldavis_el2143223129722969843704833910\", ldavis_el2143223129722969843704833910_data);\n",
       "   }(LDAvis);\n",
       "}else if(typeof define === \"function\" && define.amd){\n",
       "   // require.js is available: use it to load d3/LDAvis\n",
       "   require.config({paths: {d3: \"https://d3js.org/d3.v5\"}});\n",
       "   require([\"d3\"], function(d3){\n",
       "      window.d3 = d3;\n",
       "      LDAvis_load_lib(\"https://cdn.jsdelivr.net/gh/bmabey/pyLDAvis@3.2.2/pyLDAvis/js/ldavis.v3.0.0.js\", function(){\n",
       "        new LDAvis(\"#\" + \"ldavis_el2143223129722969843704833910\", ldavis_el2143223129722969843704833910_data);\n",
       "      });\n",
       "    });\n",
       "}else{\n",
       "    // require.js not available: dynamically load d3 & LDAvis\n",
       "    LDAvis_load_lib(\"https://d3js.org/d3.v5.js\", function(){\n",
       "         LDAvis_load_lib(\"https://cdn.jsdelivr.net/gh/bmabey/pyLDAvis@3.2.2/pyLDAvis/js/ldavis.v3.0.0.js\", function(){\n",
       "                 new LDAvis(\"#\" + \"ldavis_el2143223129722969843704833910\", ldavis_el2143223129722969843704833910_data);\n",
       "            })\n",
       "         });\n",
       "}\n",
       "</script>"
      ],
      "text/plain": [
       "PreparedData(topic_coordinates=              x         y  topics  cluster       Freq\n",
       "topic                                                \n",
       "2     -0.220137 -0.136397       1        1  33.612769\n",
       "3     -0.035853  0.167419       2        1  30.992034\n",
       "1      0.047952  0.109751       3        1  17.984323\n",
       "0      0.208038 -0.140773       4        1  17.410874, topic_info=           Term       Freq      Total Category  logprob  loglift\n",
       "37          pay  78.000000  78.000000  Default  30.0000  30.0000\n",
       "117         pet  52.000000  52.000000  Default  29.0000  29.0000\n",
       "43         want  73.000000  73.000000  Default  28.0000  28.0000\n",
       "6          code  49.000000  49.000000  Default  27.0000  27.0000\n",
       "11         cost  33.000000  33.000000  Default  26.0000  26.0000\n",
       "..          ...        ...        ...      ...      ...      ...\n",
       "415  deductible   8.332099  19.360998   Topic4  -4.6474   0.9049\n",
       "4          need  12.663876  66.133993   Topic4  -4.2288   0.0951\n",
       "94          yet   8.043945  28.211792   Topic4  -4.6826   0.4933\n",
       "67     complete   6.726820  13.880580   Topic4  -4.8614   1.0237\n",
       "214        sure   6.838702  17.296200   Topic4  -4.8449   0.8202\n",
       "\n",
       "[215 rows x 6 columns], token_table=      Topic      Freq     Term\n",
       "term                          \n",
       "192       2  0.377336   accept\n",
       "192       3  0.566005   accept\n",
       "352       3  0.741481  account\n",
       "89        2  0.206242      add\n",
       "89        3  0.790596      add\n",
       "...     ...       ...      ...\n",
       "229       1  0.491908     year\n",
       "229       2  0.491908     year\n",
       "94        2  0.708923      yet\n",
       "94        4  0.283569      yet\n",
       "109       3  0.984138      zip\n",
       "\n",
       "[225 rows x 3 columns], R=30, lambda_step=0.01, plot_opts={'xlab': 'PC1', 'ylab': 'PC2'}, topic_order=[3, 4, 2, 1])"
      ]
     },
     "execution_count": 44,
     "metadata": {},
     "output_type": "execute_result"
    }
   ],
   "source": [
    "pyLDAvis.enable_notebook()\n",
    "vis = pyLDAvis.gensim.prepare(lda_model, corpus, to_dict)\n",
    "vis"
   ]
  },
  {
   "cell_type": "code",
   "execution_count": null,
   "id": "accredited-meaning",
   "metadata": {},
   "outputs": [],
   "source": []
  }
 ],
 "metadata": {
  "kernelspec": {
   "display_name": "Python 3",
   "language": "python",
   "name": "python3"
  },
  "language_info": {
   "codemirror_mode": {
    "name": "ipython",
    "version": 3
   },
   "file_extension": ".py",
   "mimetype": "text/x-python",
   "name": "python",
   "nbconvert_exporter": "python",
   "pygments_lexer": "ipython3",
   "version": "3.6.9"
  }
 },
 "nbformat": 4,
 "nbformat_minor": 5
}
